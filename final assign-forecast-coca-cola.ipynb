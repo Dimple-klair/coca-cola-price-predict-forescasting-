{
 "cells": [
  {
   "cell_type": "markdown",
   "metadata": {},
   "source": [
    "# Forecast the CocaCola prices"
   ]
  },
  {
   "cell_type": "code",
   "execution_count": 2,
   "metadata": {},
   "outputs": [],
   "source": [
    "import pandas as pd\n",
    "import numpy as np\n",
    "import matplotlib.pyplot as plt\n",
    "from matplotlib import pyplot\n",
    "import seaborn as sns\n",
    "import statsmodels.api as smf"
   ]
  },
  {
   "cell_type": "code",
   "execution_count": 3,
   "metadata": {},
   "outputs": [
    {
     "data": {
      "text/html": [
       "<div>\n",
       "<style scoped>\n",
       "    .dataframe tbody tr th:only-of-type {\n",
       "        vertical-align: middle;\n",
       "    }\n",
       "\n",
       "    .dataframe tbody tr th {\n",
       "        vertical-align: top;\n",
       "    }\n",
       "\n",
       "    .dataframe thead th {\n",
       "        text-align: right;\n",
       "    }\n",
       "</style>\n",
       "<table border=\"1\" class=\"dataframe\">\n",
       "  <thead>\n",
       "    <tr style=\"text-align: right;\">\n",
       "      <th></th>\n",
       "      <th>Quarter</th>\n",
       "      <th>Sales</th>\n",
       "    </tr>\n",
       "  </thead>\n",
       "  <tbody>\n",
       "    <tr>\n",
       "      <th>0</th>\n",
       "      <td>Q1_86</td>\n",
       "      <td>1734.827000</td>\n",
       "    </tr>\n",
       "    <tr>\n",
       "      <th>1</th>\n",
       "      <td>Q2_86</td>\n",
       "      <td>2244.960999</td>\n",
       "    </tr>\n",
       "    <tr>\n",
       "      <th>2</th>\n",
       "      <td>Q3_86</td>\n",
       "      <td>2533.804993</td>\n",
       "    </tr>\n",
       "    <tr>\n",
       "      <th>3</th>\n",
       "      <td>Q4_86</td>\n",
       "      <td>2154.962997</td>\n",
       "    </tr>\n",
       "    <tr>\n",
       "      <th>4</th>\n",
       "      <td>Q1_87</td>\n",
       "      <td>1547.818996</td>\n",
       "    </tr>\n",
       "    <tr>\n",
       "      <th>5</th>\n",
       "      <td>Q2_87</td>\n",
       "      <td>2104.411995</td>\n",
       "    </tr>\n",
       "    <tr>\n",
       "      <th>6</th>\n",
       "      <td>Q3_87</td>\n",
       "      <td>2014.362999</td>\n",
       "    </tr>\n",
       "    <tr>\n",
       "      <th>7</th>\n",
       "      <td>Q4_87</td>\n",
       "      <td>1991.746998</td>\n",
       "    </tr>\n",
       "    <tr>\n",
       "      <th>8</th>\n",
       "      <td>Q1_88</td>\n",
       "      <td>1869.049999</td>\n",
       "    </tr>\n",
       "    <tr>\n",
       "      <th>9</th>\n",
       "      <td>Q2_88</td>\n",
       "      <td>2313.631996</td>\n",
       "    </tr>\n",
       "    <tr>\n",
       "      <th>10</th>\n",
       "      <td>Q3_88</td>\n",
       "      <td>2128.320000</td>\n",
       "    </tr>\n",
       "    <tr>\n",
       "      <th>11</th>\n",
       "      <td>Q4_88</td>\n",
       "      <td>2026.828999</td>\n",
       "    </tr>\n",
       "    <tr>\n",
       "      <th>12</th>\n",
       "      <td>Q1_89</td>\n",
       "      <td>1910.603996</td>\n",
       "    </tr>\n",
       "    <tr>\n",
       "      <th>13</th>\n",
       "      <td>Q2_89</td>\n",
       "      <td>2331.164993</td>\n",
       "    </tr>\n",
       "    <tr>\n",
       "      <th>14</th>\n",
       "      <td>Q3_89</td>\n",
       "      <td>2206.549995</td>\n",
       "    </tr>\n",
       "    <tr>\n",
       "      <th>15</th>\n",
       "      <td>Q4_89</td>\n",
       "      <td>2173.967995</td>\n",
       "    </tr>\n",
       "    <tr>\n",
       "      <th>16</th>\n",
       "      <td>Q1_90</td>\n",
       "      <td>2148.278000</td>\n",
       "    </tr>\n",
       "    <tr>\n",
       "      <th>17</th>\n",
       "      <td>Q2_90</td>\n",
       "      <td>2739.307999</td>\n",
       "    </tr>\n",
       "    <tr>\n",
       "      <th>18</th>\n",
       "      <td>Q3_90</td>\n",
       "      <td>2792.753998</td>\n",
       "    </tr>\n",
       "    <tr>\n",
       "      <th>19</th>\n",
       "      <td>Q4_90</td>\n",
       "      <td>2556.009995</td>\n",
       "    </tr>\n",
       "    <tr>\n",
       "      <th>20</th>\n",
       "      <td>Q1_91</td>\n",
       "      <td>2480.973999</td>\n",
       "    </tr>\n",
       "    <tr>\n",
       "      <th>21</th>\n",
       "      <td>Q2_91</td>\n",
       "      <td>3039.522995</td>\n",
       "    </tr>\n",
       "    <tr>\n",
       "      <th>22</th>\n",
       "      <td>Q3_91</td>\n",
       "      <td>3172.115997</td>\n",
       "    </tr>\n",
       "    <tr>\n",
       "      <th>23</th>\n",
       "      <td>Q4_91</td>\n",
       "      <td>2879.000999</td>\n",
       "    </tr>\n",
       "    <tr>\n",
       "      <th>24</th>\n",
       "      <td>Q1_92</td>\n",
       "      <td>2772.000000</td>\n",
       "    </tr>\n",
       "    <tr>\n",
       "      <th>25</th>\n",
       "      <td>Q2_92</td>\n",
       "      <td>3550.000000</td>\n",
       "    </tr>\n",
       "    <tr>\n",
       "      <th>26</th>\n",
       "      <td>Q3_92</td>\n",
       "      <td>3508.000000</td>\n",
       "    </tr>\n",
       "    <tr>\n",
       "      <th>27</th>\n",
       "      <td>Q4_92</td>\n",
       "      <td>3243.859993</td>\n",
       "    </tr>\n",
       "    <tr>\n",
       "      <th>28</th>\n",
       "      <td>Q1_93</td>\n",
       "      <td>3056.000000</td>\n",
       "    </tr>\n",
       "    <tr>\n",
       "      <th>29</th>\n",
       "      <td>Q2_93</td>\n",
       "      <td>3899.000000</td>\n",
       "    </tr>\n",
       "    <tr>\n",
       "      <th>30</th>\n",
       "      <td>Q3_93</td>\n",
       "      <td>3629.000000</td>\n",
       "    </tr>\n",
       "    <tr>\n",
       "      <th>31</th>\n",
       "      <td>Q4_93</td>\n",
       "      <td>3373.000000</td>\n",
       "    </tr>\n",
       "    <tr>\n",
       "      <th>32</th>\n",
       "      <td>Q1_94</td>\n",
       "      <td>3352.000000</td>\n",
       "    </tr>\n",
       "    <tr>\n",
       "      <th>33</th>\n",
       "      <td>Q2_94</td>\n",
       "      <td>4342.000000</td>\n",
       "    </tr>\n",
       "    <tr>\n",
       "      <th>34</th>\n",
       "      <td>Q3_94</td>\n",
       "      <td>4461.000000</td>\n",
       "    </tr>\n",
       "    <tr>\n",
       "      <th>35</th>\n",
       "      <td>Q4_94</td>\n",
       "      <td>4017.000000</td>\n",
       "    </tr>\n",
       "    <tr>\n",
       "      <th>36</th>\n",
       "      <td>Q1_95</td>\n",
       "      <td>3854.000000</td>\n",
       "    </tr>\n",
       "    <tr>\n",
       "      <th>37</th>\n",
       "      <td>Q2_95</td>\n",
       "      <td>4936.000000</td>\n",
       "    </tr>\n",
       "    <tr>\n",
       "      <th>38</th>\n",
       "      <td>Q3_95</td>\n",
       "      <td>4895.000000</td>\n",
       "    </tr>\n",
       "    <tr>\n",
       "      <th>39</th>\n",
       "      <td>Q4_95</td>\n",
       "      <td>4333.000000</td>\n",
       "    </tr>\n",
       "    <tr>\n",
       "      <th>40</th>\n",
       "      <td>Q1_96</td>\n",
       "      <td>4194.000000</td>\n",
       "    </tr>\n",
       "    <tr>\n",
       "      <th>41</th>\n",
       "      <td>Q2_96</td>\n",
       "      <td>5253.000000</td>\n",
       "    </tr>\n",
       "  </tbody>\n",
       "</table>\n",
       "</div>"
      ],
      "text/plain": [
       "   Quarter        Sales\n",
       "0    Q1_86  1734.827000\n",
       "1    Q2_86  2244.960999\n",
       "2    Q3_86  2533.804993\n",
       "3    Q4_86  2154.962997\n",
       "4    Q1_87  1547.818996\n",
       "5    Q2_87  2104.411995\n",
       "6    Q3_87  2014.362999\n",
       "7    Q4_87  1991.746998\n",
       "8    Q1_88  1869.049999\n",
       "9    Q2_88  2313.631996\n",
       "10   Q3_88  2128.320000\n",
       "11   Q4_88  2026.828999\n",
       "12   Q1_89  1910.603996\n",
       "13   Q2_89  2331.164993\n",
       "14   Q3_89  2206.549995\n",
       "15   Q4_89  2173.967995\n",
       "16   Q1_90  2148.278000\n",
       "17   Q2_90  2739.307999\n",
       "18   Q3_90  2792.753998\n",
       "19   Q4_90  2556.009995\n",
       "20   Q1_91  2480.973999\n",
       "21   Q2_91  3039.522995\n",
       "22   Q3_91  3172.115997\n",
       "23   Q4_91  2879.000999\n",
       "24   Q1_92  2772.000000\n",
       "25   Q2_92  3550.000000\n",
       "26   Q3_92  3508.000000\n",
       "27   Q4_92  3243.859993\n",
       "28   Q1_93  3056.000000\n",
       "29   Q2_93  3899.000000\n",
       "30   Q3_93  3629.000000\n",
       "31   Q4_93  3373.000000\n",
       "32   Q1_94  3352.000000\n",
       "33   Q2_94  4342.000000\n",
       "34   Q3_94  4461.000000\n",
       "35   Q4_94  4017.000000\n",
       "36   Q1_95  3854.000000\n",
       "37   Q2_95  4936.000000\n",
       "38   Q3_95  4895.000000\n",
       "39   Q4_95  4333.000000\n",
       "40   Q1_96  4194.000000\n",
       "41   Q2_96  5253.000000"
      ]
     },
     "execution_count": 3,
     "metadata": {},
     "output_type": "execute_result"
    }
   ],
   "source": [
    "df=pd.read_excel('C:/Users/RIG1/Desktop/DS ASSIGNMENTS/QUESTIONS -all assignments/ASS 18-forecasting/CocaCola_Sales_Rawdata.xlsx')\n",
    "df"
   ]
  },
  {
   "cell_type": "code",
   "execution_count": 4,
   "metadata": {},
   "outputs": [
    {
     "name": "stdout",
     "output_type": "stream",
     "text": [
      "<class 'pandas.core.frame.DataFrame'>\n",
      "RangeIndex: 42 entries, 0 to 41\n",
      "Data columns (total 2 columns):\n",
      " #   Column   Non-Null Count  Dtype  \n",
      "---  ------   --------------  -----  \n",
      " 0   Quarter  42 non-null     object \n",
      " 1   Sales    42 non-null     float64\n",
      "dtypes: float64(1), object(1)\n",
      "memory usage: 800.0+ bytes\n"
     ]
    }
   ],
   "source": [
    "df.info()"
   ]
  },
  {
   "cell_type": "code",
   "execution_count": 5,
   "metadata": {},
   "outputs": [
    {
     "data": {
      "text/plain": [
       "Quarter    0\n",
       "Sales      0\n",
       "dtype: int64"
      ]
     },
     "execution_count": 5,
     "metadata": {},
     "output_type": "execute_result"
    }
   ],
   "source": [
    "df.isnull().sum()"
   ]
  },
  {
   "cell_type": "code",
   "execution_count": 6,
   "metadata": {},
   "outputs": [
    {
     "data": {
      "text/html": [
       "<div>\n",
       "<style scoped>\n",
       "    .dataframe tbody tr th:only-of-type {\n",
       "        vertical-align: middle;\n",
       "    }\n",
       "\n",
       "    .dataframe tbody tr th {\n",
       "        vertical-align: top;\n",
       "    }\n",
       "\n",
       "    .dataframe thead th {\n",
       "        text-align: right;\n",
       "    }\n",
       "</style>\n",
       "<table border=\"1\" class=\"dataframe\">\n",
       "  <thead>\n",
       "    <tr style=\"text-align: right;\">\n",
       "      <th></th>\n",
       "      <th>Sales</th>\n",
       "    </tr>\n",
       "  </thead>\n",
       "  <tbody>\n",
       "    <tr>\n",
       "      <th>count</th>\n",
       "      <td>42.000000</td>\n",
       "    </tr>\n",
       "    <tr>\n",
       "      <th>mean</th>\n",
       "      <td>2994.353308</td>\n",
       "    </tr>\n",
       "    <tr>\n",
       "      <th>std</th>\n",
       "      <td>977.930896</td>\n",
       "    </tr>\n",
       "    <tr>\n",
       "      <th>min</th>\n",
       "      <td>1547.818996</td>\n",
       "    </tr>\n",
       "    <tr>\n",
       "      <th>25%</th>\n",
       "      <td>2159.714247</td>\n",
       "    </tr>\n",
       "    <tr>\n",
       "      <th>50%</th>\n",
       "      <td>2782.376999</td>\n",
       "    </tr>\n",
       "    <tr>\n",
       "      <th>75%</th>\n",
       "      <td>3609.250000</td>\n",
       "    </tr>\n",
       "    <tr>\n",
       "      <th>max</th>\n",
       "      <td>5253.000000</td>\n",
       "    </tr>\n",
       "  </tbody>\n",
       "</table>\n",
       "</div>"
      ],
      "text/plain": [
       "             Sales\n",
       "count    42.000000\n",
       "mean   2994.353308\n",
       "std     977.930896\n",
       "min    1547.818996\n",
       "25%    2159.714247\n",
       "50%    2782.376999\n",
       "75%    3609.250000\n",
       "max    5253.000000"
      ]
     },
     "execution_count": 6,
     "metadata": {},
     "output_type": "execute_result"
    }
   ],
   "source": [
    "df.describe()"
   ]
  },
  {
   "cell_type": "code",
   "execution_count": 7,
   "metadata": {},
   "outputs": [
    {
     "data": {
      "text/plain": [
       "(42, 2)"
      ]
     },
     "execution_count": 7,
     "metadata": {},
     "output_type": "execute_result"
    }
   ],
   "source": [
    "df.shape"
   ]
  },
  {
   "cell_type": "code",
   "execution_count": 8,
   "metadata": {},
   "outputs": [
    {
     "data": {
      "text/plain": [
       "<AxesSubplot:>"
      ]
     },
     "execution_count": 8,
     "metadata": {},
     "output_type": "execute_result"
    },
    {
     "data": {
      "image/png": "[encoded data removed]",
      "text/plain": [
       "<Figure size 432x288 with 1 Axes>"
      ]
     },
     "metadata": {
      "needs_background": "light"
     },
     "output_type": "display_data"
    }
   ],
   "source": [
    "df.Sales.plot()"
   ]
  },
  {
   "cell_type": "markdown",
   "metadata": {},
   "source": [
    "### Above plot shows upward trend as the seasonality is not much clear"
   ]
  },
  {
   "cell_type": "markdown",
   "metadata": {},
   "source": [
    "# Below is the way to convert quarterly periods to datetime in pandas"
   ]
  },
  {
   "cell_type": "code",
   "execution_count": 9,
   "metadata": {},
   "outputs": [
    {
     "data": {
      "text/html": [
       "<div>\n",
       "<style scoped>\n",
       "    .dataframe tbody tr th:only-of-type {\n",
       "        vertical-align: middle;\n",
       "    }\n",
       "\n",
       "    .dataframe tbody tr th {\n",
       "        vertical-align: top;\n",
       "    }\n",
       "\n",
       "    .dataframe thead th {\n",
       "        text-align: right;\n",
       "    }\n",
       "</style>\n",
       "<table border=\"1\" class=\"dataframe\">\n",
       "  <thead>\n",
       "    <tr style=\"text-align: right;\">\n",
       "      <th></th>\n",
       "      <th>Quarter</th>\n",
       "      <th>Sales</th>\n",
       "      <th>Quarter_Year</th>\n",
       "    </tr>\n",
       "  </thead>\n",
       "  <tbody>\n",
       "    <tr>\n",
       "      <th>0</th>\n",
       "      <td>Q1_86</td>\n",
       "      <td>1734.827000</td>\n",
       "      <td>Q1 1986</td>\n",
       "    </tr>\n",
       "    <tr>\n",
       "      <th>1</th>\n",
       "      <td>Q2_86</td>\n",
       "      <td>2244.960999</td>\n",
       "      <td>Q2 1986</td>\n",
       "    </tr>\n",
       "    <tr>\n",
       "      <th>2</th>\n",
       "      <td>Q3_86</td>\n",
       "      <td>2533.804993</td>\n",
       "      <td>Q3 1986</td>\n",
       "    </tr>\n",
       "    <tr>\n",
       "      <th>3</th>\n",
       "      <td>Q4_86</td>\n",
       "      <td>2154.962997</td>\n",
       "      <td>Q4 1986</td>\n",
       "    </tr>\n",
       "    <tr>\n",
       "      <th>4</th>\n",
       "      <td>Q1_87</td>\n",
       "      <td>1547.818996</td>\n",
       "      <td>Q1 1987</td>\n",
       "    </tr>\n",
       "  </tbody>\n",
       "</table>\n",
       "</div>"
      ],
      "text/plain": [
       "  Quarter        Sales Quarter_Year\n",
       "0   Q1_86  1734.827000      Q1 1986\n",
       "1   Q2_86  2244.960999      Q2 1986\n",
       "2   Q3_86  2533.804993      Q3 1986\n",
       "3   Q4_86  2154.962997      Q4 1986\n",
       "4   Q1_87  1547.818996      Q1 1987"
      ]
     },
     "execution_count": 9,
     "metadata": {},
     "output_type": "execute_result"
    }
   ],
   "source": [
    "#Clean way to convert quarterly periods to datetime in pandas\n",
    "\n",
    "df['Quarter_Year'] = df['Quarter'].str.split('_').apply(lambda x: ' 19'.join(x[:]))\n",
    "\n",
    "\n",
    "df.head()"
   ]
  },
  {
   "cell_type": "markdown",
   "metadata": {},
   "source": [
    "## So, let's extract (Quarter) from  (Quarter_Year) column"
   ]
  },
  {
   "cell_type": "code",
   "execution_count": 10,
   "metadata": {},
   "outputs": [
    {
     "data": {
      "text/html": [
       "<div>\n",
       "<style scoped>\n",
       "    .dataframe tbody tr th:only-of-type {\n",
       "        vertical-align: middle;\n",
       "    }\n",
       "\n",
       "    .dataframe tbody tr th {\n",
       "        vertical-align: top;\n",
       "    }\n",
       "\n",
       "    .dataframe thead th {\n",
       "        text-align: right;\n",
       "    }\n",
       "</style>\n",
       "<table border=\"1\" class=\"dataframe\">\n",
       "  <thead>\n",
       "    <tr style=\"text-align: right;\">\n",
       "      <th></th>\n",
       "      <th>Quarter</th>\n",
       "      <th>Sales</th>\n",
       "      <th>Quarter_Year</th>\n",
       "      <th>quarters</th>\n",
       "    </tr>\n",
       "  </thead>\n",
       "  <tbody>\n",
       "    <tr>\n",
       "      <th>0</th>\n",
       "      <td>Q1_86</td>\n",
       "      <td>1734.827000</td>\n",
       "      <td>Q1 1986</td>\n",
       "      <td>Q1</td>\n",
       "    </tr>\n",
       "    <tr>\n",
       "      <th>1</th>\n",
       "      <td>Q2_86</td>\n",
       "      <td>2244.960999</td>\n",
       "      <td>Q2 1986</td>\n",
       "      <td>Q2</td>\n",
       "    </tr>\n",
       "    <tr>\n",
       "      <th>2</th>\n",
       "      <td>Q3_86</td>\n",
       "      <td>2533.804993</td>\n",
       "      <td>Q3 1986</td>\n",
       "      <td>Q3</td>\n",
       "    </tr>\n",
       "    <tr>\n",
       "      <th>3</th>\n",
       "      <td>Q4_86</td>\n",
       "      <td>2154.962997</td>\n",
       "      <td>Q4 1986</td>\n",
       "      <td>Q4</td>\n",
       "    </tr>\n",
       "    <tr>\n",
       "      <th>4</th>\n",
       "      <td>Q1_87</td>\n",
       "      <td>1547.818996</td>\n",
       "      <td>Q1 1987</td>\n",
       "      <td>Q1</td>\n",
       "    </tr>\n",
       "  </tbody>\n",
       "</table>\n",
       "</div>"
      ],
      "text/plain": [
       "  Quarter        Sales Quarter_Year quarters\n",
       "0   Q1_86  1734.827000      Q1 1986       Q1\n",
       "1   Q2_86  2244.960999      Q2 1986       Q2\n",
       "2   Q3_86  2533.804993      Q3 1986       Q3\n",
       "3   Q4_86  2154.962997      Q4 1986       Q4\n",
       "4   Q1_87  1547.818996      Q1 1987       Q1"
      ]
     },
     "execution_count": 10,
     "metadata": {},
     "output_type": "execute_result"
    }
   ],
   "source": [
    "def separateQuarter(x):\n",
    "    list = x.split('_')\n",
    "    return list[0]\n",
    "\n",
    "df['quarters'] = df['Quarter'].apply(separateQuarter)\n",
    "\n",
    "# dummy = pd.DataFrame(pd.get_dummies(ds['quarters']))\n",
    "# df = pd.concat([df,dummy], axis=1)\n",
    "df.head()"
   ]
  },
  {
   "cell_type": "markdown",
   "metadata": {},
   "source": [
    "## So, let's extract (year) from (Quarter_Year) column"
   ]
  },
  {
   "cell_type": "code",
   "execution_count": 11,
   "metadata": {
    "scrolled": true
   },
   "outputs": [
    {
     "data": {
      "text/html": [
       "<div>\n",
       "<style scoped>\n",
       "    .dataframe tbody tr th:only-of-type {\n",
       "        vertical-align: middle;\n",
       "    }\n",
       "\n",
       "    .dataframe tbody tr th {\n",
       "        vertical-align: top;\n",
       "    }\n",
       "\n",
       "    .dataframe thead th {\n",
       "        text-align: right;\n",
       "    }\n",
       "</style>\n",
       "<table border=\"1\" class=\"dataframe\">\n",
       "  <thead>\n",
       "    <tr style=\"text-align: right;\">\n",
       "      <th></th>\n",
       "      <th>Quarter</th>\n",
       "      <th>Sales</th>\n",
       "      <th>Quarter_Year</th>\n",
       "      <th>quarters</th>\n",
       "      <th>year</th>\n",
       "    </tr>\n",
       "  </thead>\n",
       "  <tbody>\n",
       "    <tr>\n",
       "      <th>0</th>\n",
       "      <td>Q1_86</td>\n",
       "      <td>1734.827000</td>\n",
       "      <td>Q1 1986</td>\n",
       "      <td>Q1</td>\n",
       "      <td>1986</td>\n",
       "    </tr>\n",
       "    <tr>\n",
       "      <th>1</th>\n",
       "      <td>Q2_86</td>\n",
       "      <td>2244.960999</td>\n",
       "      <td>Q2 1986</td>\n",
       "      <td>Q2</td>\n",
       "      <td>1986</td>\n",
       "    </tr>\n",
       "    <tr>\n",
       "      <th>2</th>\n",
       "      <td>Q3_86</td>\n",
       "      <td>2533.804993</td>\n",
       "      <td>Q3 1986</td>\n",
       "      <td>Q3</td>\n",
       "      <td>1986</td>\n",
       "    </tr>\n",
       "    <tr>\n",
       "      <th>3</th>\n",
       "      <td>Q4_86</td>\n",
       "      <td>2154.962997</td>\n",
       "      <td>Q4 1986</td>\n",
       "      <td>Q4</td>\n",
       "      <td>1986</td>\n",
       "    </tr>\n",
       "    <tr>\n",
       "      <th>4</th>\n",
       "      <td>Q1_87</td>\n",
       "      <td>1547.818996</td>\n",
       "      <td>Q1 1987</td>\n",
       "      <td>Q1</td>\n",
       "      <td>1987</td>\n",
       "    </tr>\n",
       "  </tbody>\n",
       "</table>\n",
       "</div>"
      ],
      "text/plain": [
       "  Quarter        Sales Quarter_Year quarters  year\n",
       "0   Q1_86  1734.827000      Q1 1986       Q1  1986\n",
       "1   Q2_86  2244.960999      Q2 1986       Q2  1986\n",
       "2   Q3_86  2533.804993      Q3 1986       Q3  1986\n",
       "3   Q4_86  2154.962997      Q4 1986       Q4  1986\n",
       "4   Q1_87  1547.818996      Q1 1987       Q1  1987"
      ]
     },
     "execution_count": 11,
     "metadata": {},
     "output_type": "execute_result"
    }
   ],
   "source": [
    "def seperateyear(x):\n",
    "    items  = x.split('_')\n",
    "    year   = items[1]\n",
    "    seperateyear = '19'+year\n",
    "    return int(seperateyear)\n",
    "\n",
    "df['year'] = df['Quarter'].apply(seperateyear)\n",
    "df.head()"
   ]
  },
  {
   "cell_type": "markdown",
   "metadata": {},
   "source": [
    "# create dummy variables now"
   ]
  },
  {
   "cell_type": "code",
   "execution_count": 12,
   "metadata": {
    "scrolled": true
   },
   "outputs": [
    {
     "data": {
      "text/html": [
       "<div>\n",
       "<style scoped>\n",
       "    .dataframe tbody tr th:only-of-type {\n",
       "        vertical-align: middle;\n",
       "    }\n",
       "\n",
       "    .dataframe tbody tr th {\n",
       "        vertical-align: top;\n",
       "    }\n",
       "\n",
       "    .dataframe thead th {\n",
       "        text-align: right;\n",
       "    }\n",
       "</style>\n",
       "<table border=\"1\" class=\"dataframe\">\n",
       "  <thead>\n",
       "    <tr style=\"text-align: right;\">\n",
       "      <th></th>\n",
       "      <th>Quarter</th>\n",
       "      <th>Sales</th>\n",
       "      <th>Quarter_Year</th>\n",
       "      <th>quarters</th>\n",
       "      <th>year</th>\n",
       "      <th>Q1</th>\n",
       "      <th>Q2</th>\n",
       "      <th>Q3</th>\n",
       "      <th>Q4</th>\n",
       "    </tr>\n",
       "  </thead>\n",
       "  <tbody>\n",
       "    <tr>\n",
       "      <th>0</th>\n",
       "      <td>Q1_86</td>\n",
       "      <td>1734.827000</td>\n",
       "      <td>Q1 1986</td>\n",
       "      <td>Q1</td>\n",
       "      <td>1986</td>\n",
       "      <td>1</td>\n",
       "      <td>0</td>\n",
       "      <td>0</td>\n",
       "      <td>0</td>\n",
       "    </tr>\n",
       "    <tr>\n",
       "      <th>1</th>\n",
       "      <td>Q2_86</td>\n",
       "      <td>2244.960999</td>\n",
       "      <td>Q2 1986</td>\n",
       "      <td>Q2</td>\n",
       "      <td>1986</td>\n",
       "      <td>0</td>\n",
       "      <td>1</td>\n",
       "      <td>0</td>\n",
       "      <td>0</td>\n",
       "    </tr>\n",
       "    <tr>\n",
       "      <th>2</th>\n",
       "      <td>Q3_86</td>\n",
       "      <td>2533.804993</td>\n",
       "      <td>Q3 1986</td>\n",
       "      <td>Q3</td>\n",
       "      <td>1986</td>\n",
       "      <td>0</td>\n",
       "      <td>0</td>\n",
       "      <td>1</td>\n",
       "      <td>0</td>\n",
       "    </tr>\n",
       "    <tr>\n",
       "      <th>3</th>\n",
       "      <td>Q4_86</td>\n",
       "      <td>2154.962997</td>\n",
       "      <td>Q4 1986</td>\n",
       "      <td>Q4</td>\n",
       "      <td>1986</td>\n",
       "      <td>0</td>\n",
       "      <td>0</td>\n",
       "      <td>0</td>\n",
       "      <td>1</td>\n",
       "    </tr>\n",
       "    <tr>\n",
       "      <th>4</th>\n",
       "      <td>Q1_87</td>\n",
       "      <td>1547.818996</td>\n",
       "      <td>Q1 1987</td>\n",
       "      <td>Q1</td>\n",
       "      <td>1987</td>\n",
       "      <td>1</td>\n",
       "      <td>0</td>\n",
       "      <td>0</td>\n",
       "      <td>0</td>\n",
       "    </tr>\n",
       "  </tbody>\n",
       "</table>\n",
       "</div>"
      ],
      "text/plain": [
       "  Quarter        Sales Quarter_Year quarters  year  Q1  Q2  Q3  Q4\n",
       "0   Q1_86  1734.827000      Q1 1986       Q1  1986   1   0   0   0\n",
       "1   Q2_86  2244.960999      Q2 1986       Q2  1986   0   1   0   0\n",
       "2   Q3_86  2533.804993      Q3 1986       Q3  1986   0   0   1   0\n",
       "3   Q4_86  2154.962997      Q4 1986       Q4  1986   0   0   0   1\n",
       "4   Q1_87  1547.818996      Q1 1987       Q1  1987   1   0   0   0"
      ]
     },
     "execution_count": 12,
     "metadata": {},
     "output_type": "execute_result"
    }
   ],
   "source": [
    "dummy_quarter = pd.DataFrame(pd.get_dummies(df['quarters']))\n",
    "df = pd.concat([df,dummy_quarter], axis=1)\n",
    "df.head()"
   ]
  },
  {
   "cell_type": "code",
   "execution_count": 13,
   "metadata": {},
   "outputs": [
    {
     "data": {
      "text/plain": [
       "(42, 9)"
      ]
     },
     "execution_count": 13,
     "metadata": {},
     "output_type": "execute_result"
    }
   ],
   "source": [
    "df.shape"
   ]
  },
  {
   "cell_type": "markdown",
   "metadata": {},
   "source": [
    "# create ----- t,t_square,log_sales\n",
    "# (because we will use them in model building)"
   ]
  },
  {
   "cell_type": "code",
   "execution_count": 14,
   "metadata": {},
   "outputs": [
    {
     "data": {
      "text/html": [
       "<div>\n",
       "<style scoped>\n",
       "    .dataframe tbody tr th:only-of-type {\n",
       "        vertical-align: middle;\n",
       "    }\n",
       "\n",
       "    .dataframe tbody tr th {\n",
       "        vertical-align: top;\n",
       "    }\n",
       "\n",
       "    .dataframe thead th {\n",
       "        text-align: right;\n",
       "    }\n",
       "</style>\n",
       "<table border=\"1\" class=\"dataframe\">\n",
       "  <thead>\n",
       "    <tr style=\"text-align: right;\">\n",
       "      <th></th>\n",
       "      <th>Quarter</th>\n",
       "      <th>Sales</th>\n",
       "      <th>Quarter_Year</th>\n",
       "      <th>quarters</th>\n",
       "      <th>year</th>\n",
       "      <th>Q1</th>\n",
       "      <th>Q2</th>\n",
       "      <th>Q3</th>\n",
       "      <th>Q4</th>\n",
       "      <th>t</th>\n",
       "      <th>t_squared</th>\n",
       "      <th>log_sales</th>\n",
       "    </tr>\n",
       "  </thead>\n",
       "  <tbody>\n",
       "    <tr>\n",
       "      <th>0</th>\n",
       "      <td>Q1_86</td>\n",
       "      <td>1734.827000</td>\n",
       "      <td>Q1 1986</td>\n",
       "      <td>Q1</td>\n",
       "      <td>1986</td>\n",
       "      <td>1</td>\n",
       "      <td>0</td>\n",
       "      <td>0</td>\n",
       "      <td>0</td>\n",
       "      <td>0</td>\n",
       "      <td>0</td>\n",
       "      <td>7.458663</td>\n",
       "    </tr>\n",
       "    <tr>\n",
       "      <th>1</th>\n",
       "      <td>Q2_86</td>\n",
       "      <td>2244.960999</td>\n",
       "      <td>Q2 1986</td>\n",
       "      <td>Q2</td>\n",
       "      <td>1986</td>\n",
       "      <td>0</td>\n",
       "      <td>1</td>\n",
       "      <td>0</td>\n",
       "      <td>0</td>\n",
       "      <td>1</td>\n",
       "      <td>1</td>\n",
       "      <td>7.716443</td>\n",
       "    </tr>\n",
       "    <tr>\n",
       "      <th>2</th>\n",
       "      <td>Q3_86</td>\n",
       "      <td>2533.804993</td>\n",
       "      <td>Q3 1986</td>\n",
       "      <td>Q3</td>\n",
       "      <td>1986</td>\n",
       "      <td>0</td>\n",
       "      <td>0</td>\n",
       "      <td>1</td>\n",
       "      <td>0</td>\n",
       "      <td>2</td>\n",
       "      <td>4</td>\n",
       "      <td>7.837477</td>\n",
       "    </tr>\n",
       "    <tr>\n",
       "      <th>3</th>\n",
       "      <td>Q4_86</td>\n",
       "      <td>2154.962997</td>\n",
       "      <td>Q4 1986</td>\n",
       "      <td>Q4</td>\n",
       "      <td>1986</td>\n",
       "      <td>0</td>\n",
       "      <td>0</td>\n",
       "      <td>0</td>\n",
       "      <td>1</td>\n",
       "      <td>3</td>\n",
       "      <td>9</td>\n",
       "      <td>7.675529</td>\n",
       "    </tr>\n",
       "    <tr>\n",
       "      <th>4</th>\n",
       "      <td>Q1_87</td>\n",
       "      <td>1547.818996</td>\n",
       "      <td>Q1 1987</td>\n",
       "      <td>Q1</td>\n",
       "      <td>1987</td>\n",
       "      <td>1</td>\n",
       "      <td>0</td>\n",
       "      <td>0</td>\n",
       "      <td>0</td>\n",
       "      <td>4</td>\n",
       "      <td>16</td>\n",
       "      <td>7.344602</td>\n",
       "    </tr>\n",
       "  </tbody>\n",
       "</table>\n",
       "</div>"
      ],
      "text/plain": [
       "  Quarter        Sales Quarter_Year quarters  year  Q1  Q2  Q3  Q4  t  \\\n",
       "0   Q1_86  1734.827000      Q1 1986       Q1  1986   1   0   0   0  0   \n",
       "1   Q2_86  2244.960999      Q2 1986       Q2  1986   0   1   0   0  1   \n",
       "2   Q3_86  2533.804993      Q3 1986       Q3  1986   0   0   1   0  2   \n",
       "3   Q4_86  2154.962997      Q4 1986       Q4  1986   0   0   0   1  3   \n",
       "4   Q1_87  1547.818996      Q1 1987       Q1  1987   1   0   0   0  4   \n",
       "\n",
       "   t_squared  log_sales  \n",
       "0          0   7.458663  \n",
       "1          1   7.716443  \n",
       "2          4   7.837477  \n",
       "3          9   7.675529  \n",
       "4         16   7.344602  "
      ]
     },
     "execution_count": 14,
     "metadata": {},
     "output_type": "execute_result"
    }
   ],
   "source": [
    "df[\"t\"] = np.arange(0,42) # or(1,43) ------43 is excluded\n",
    "df[\"t_squared\"] = df[\"t\"]*df[\"t\"]\n",
    "df[\"log_sales\"] = np.log(df[\"Sales\"])\n",
    "df.columns\n",
    "df.head()\n",
    "\n",
    "\n",
    "# ******************** OR THE OTHER WAY TO DO  THIS IS ************************\n",
    "\n",
    "\n",
    "# t_list = [x for x in range(1,len(df)+1)]\n",
    "# df['t'] = t_list\n",
    "# df['t_square'] = df['t']*df['t']\n",
    "# #log transformation\n",
    "# df['log_sales'] = np.log10(df.Sales)\n",
    "# df.head()"
   ]
  },
  {
   "cell_type": "code",
   "execution_count": 15,
   "metadata": {},
   "outputs": [
    {
     "data": {
      "text/plain": [
       "<AxesSubplot:xlabel='quarters', ylabel='year'>"
      ]
     },
     "execution_count": 15,
     "metadata": {},
     "output_type": "execute_result"
    },
    {
     "data": {
      "image/png": "[encoded data removed]",
      "text/plain": [
       "<Figure size 720x720 with 2 Axes>"
      ]
     },
     "metadata": {
      "needs_background": "light"
     },
     "output_type": "display_data"
    }
   ],
   "source": [
    "plt.figure(figsize=(10,10))\n",
    "heat=pd.pivot_table(data=df,values='Sales',index='year',columns='quarters',aggfunc='mean',fill_value=0)\n",
    "sns.heatmap(heat,annot=True,fmt='g')# fmt= formating string applied to arrays #'g'=General format for floating values\n",
    "# without fmt='g' values showing is not in proper manner"
   ]
  },
  {
   "cell_type": "markdown",
   "metadata": {},
   "source": [
    "### Q2 - MEANS APRIL,MAY,JUNE\n",
    "### during 2nd quarter the sale of coca-cola is more as compared with other months.\n",
    "### on the other hand Q3,Q4 has leasts number of sales"
   ]
  },
  {
   "cell_type": "markdown",
   "metadata": {},
   "source": [
    "# BOXPLOT"
   ]
  },
  {
   "cell_type": "code",
   "execution_count": 16,
   "metadata": {},
   "outputs": [
    {
     "data": {
      "text/plain": [
       "<AxesSubplot:xlabel='year', ylabel='Sales'>"
      ]
     },
     "execution_count": 16,
     "metadata": {},
     "output_type": "execute_result"
    },
    {
     "data": {
      "image/png": "[encoded data removed]",
      "text/plain": [
       "<Figure size 720x720 with 2 Axes>"
      ]
     },
     "metadata": {
      "needs_background": "light"
     },
     "output_type": "display_data"
    }
   ],
   "source": [
    "plt.figure(figsize=(10,10))\n",
    "plt.subplot(211)\n",
    "sns.boxplot(x='quarters',y='Sales',data=df)\n",
    "plt.subplot(212)\n",
    "sns.boxplot(x='year',y='Sales',data=df)"
   ]
  },
  {
   "cell_type": "markdown",
   "metadata": {},
   "source": [
    "### As we can see clearly the number of coca-cola sales are increasing from the year 1986 to 1996\n",
    "### Q2 has more number of sales as compared with Q3 AND Q4"
   ]
  },
  {
   "cell_type": "markdown",
   "metadata": {},
   "source": [
    "# Line plot -- for year"
   ]
  },
  {
   "cell_type": "code",
   "execution_count": 17,
   "metadata": {},
   "outputs": [
    {
     "data": {
      "text/plain": [
       "<AxesSubplot:xlabel='year', ylabel='Sales'>"
      ]
     },
     "execution_count": 17,
     "metadata": {},
     "output_type": "execute_result"
    },
    {
     "data": {
      "image/png": "[encoded data removed]",
      "text/plain": [
       "<Figure size 720x288 with 1 Axes>"
      ]
     },
     "metadata": {
      "needs_background": "light"
     },
     "output_type": "display_data"
    }
   ],
   "source": [
    "plt.figure(figsize=(10,4))\n",
    "sns.lineplot(x='year',y='Sales',data=df)"
   ]
  },
  {
   "cell_type": "markdown",
   "metadata": {},
   "source": [
    "### If we focus on overeall pattern then we can see the trend is moving upward"
   ]
  },
  {
   "cell_type": "markdown",
   "metadata": {},
   "source": [
    "# line plot --for quarters"
   ]
  },
  {
   "cell_type": "code",
   "execution_count": 18,
   "metadata": {},
   "outputs": [
    {
     "data": {
      "text/plain": [
       "<AxesSubplot:xlabel='quarters', ylabel='Sales'>"
      ]
     },
     "execution_count": 18,
     "metadata": {},
     "output_type": "execute_result"
    },
    {
     "data": {
      "image/png": "[encoded data removed]",
      "text/plain": [
       "<Figure size 720x288 with 1 Axes>"
      ]
     },
     "metadata": {
      "needs_background": "light"
     },
     "output_type": "display_data"
    }
   ],
   "source": [
    "plt.figure(figsize=(10,4))\n",
    "sns.lineplot(x='quarters',y='Sales',data=df)"
   ]
  },
  {
   "cell_type": "markdown",
   "metadata": {},
   "source": [
    "### Q2-apr,may,jun showing more number of sales of cola-cola drink"
   ]
  },
  {
   "cell_type": "markdown",
   "metadata": {},
   "source": [
    "# train test split"
   ]
  },
  {
   "cell_type": "code",
   "execution_count": 19,
   "metadata": {},
   "outputs": [],
   "source": [
    "Train = df.head(30)\n",
    "Test = df.tail(12)"
   ]
  },
  {
   "cell_type": "markdown",
   "metadata": {},
   "source": [
    "# Build model\n",
    "## linear model"
   ]
  },
  {
   "cell_type": "code",
   "execution_count": 20,
   "metadata": {},
   "outputs": [
    {
     "name": "stdout",
     "output_type": "stream",
     "text": [
      "RMSE Linear:  714.014448328131\n"
     ]
    }
   ],
   "source": [
    "import statsmodels.formula.api as smf \n",
    "\n",
    "linear_model = smf.ols('Sales~t',data=Train).fit()\n",
    "pred_linear =  pd.Series(linear_model.predict(pd.DataFrame(Test['t'])))\n",
    "rmse_linear = np.sqrt(np.mean((np.array(Test['Sales'])-np.array(pred_linear))**2))\n",
    "print(\"RMSE Linear: \",rmse_linear)"
   ]
  },
  {
   "cell_type": "markdown",
   "metadata": {},
   "source": [
    "# Exponential model"
   ]
  },
  {
   "cell_type": "code",
   "execution_count": 21,
   "metadata": {},
   "outputs": [
    {
     "name": "stdout",
     "output_type": "stream",
     "text": [
      "RMSE Exponential:  552.2821039079397\n"
     ]
    }
   ],
   "source": [
    "Exp = smf.ols('log_sales~t',data=Train).fit()\n",
    "pred_Exp = pd.Series(Exp.predict(pd.DataFrame(Test['t'])))\n",
    "rmse_Exp = np.sqrt(np.mean((np.array(Test['Sales'])-np.array(np.exp(pred_Exp)))**2))\n",
    "print(\"RMSE Exponential: \",rmse_Exp)"
   ]
  },
  {
   "cell_type": "markdown",
   "metadata": {},
   "source": [
    "# Quadratic"
   ]
  },
  {
   "cell_type": "code",
   "execution_count": 22,
   "metadata": {},
   "outputs": [
    {
     "data": {
      "text/plain": [
       "646.27"
      ]
     },
     "execution_count": 22,
     "metadata": {},
     "output_type": "execute_result"
    }
   ],
   "source": [
    "Quad = smf.ols('Sales~t+t_squared',data=Train).fit()\n",
    "pred_Quad = pd.Series(Quad.predict(Test[[\"t\",\"t_squared\"]]))\n",
    "rmse_Quad = np.sqrt(np.mean((np.array(Test['Sales'])-np.array(pred_Quad))**2))\n",
    "rmse_Quad = round(rmse_Quad,2)\n",
    "rmse_Quad"
   ]
  },
  {
   "cell_type": "markdown",
   "metadata": {},
   "source": [
    "# Additive seasonality "
   ]
  },
  {
   "cell_type": "code",
   "execution_count": 23,
   "metadata": {},
   "outputs": [
    {
     "data": {
      "text/plain": [
       "1778.01"
      ]
     },
     "execution_count": 23,
     "metadata": {},
     "output_type": "execute_result"
    }
   ],
   "source": [
    "add_sea = smf.ols('Sales~Q1+Q2+Q3',data=Train).fit()\n",
    "pred_add_sea = pd.Series(add_sea.predict(Test[['Q1','Q2','Q3','Q4']]))\n",
    "rmse_add_sea = np.sqrt(np.mean((np.array(Test['Sales'])-np.array(pred_add_sea))**2))\n",
    "rmse_add_sea = round(rmse_add_sea,2)\n",
    "rmse_add_sea"
   ]
  },
  {
   "cell_type": "markdown",
   "metadata": {},
   "source": [
    "# Additive Seasonality Quadratic "
   ]
  },
  {
   "cell_type": "code",
   "execution_count": 24,
   "metadata": {},
   "outputs": [
    {
     "data": {
      "text/plain": [
       "586.05"
      ]
     },
     "execution_count": 24,
     "metadata": {},
     "output_type": "execute_result"
    }
   ],
   "source": [
    "add_sea_Quad = smf.ols('Sales~t+t_squared+Q1+Q2+Q3+Q4',data=Train).fit()\n",
    "pred_add_sea_quad = pd.Series(add_sea_Quad.predict(Test[['Q1','Q2','Q3','Q4','t','t_squared']]))\n",
    "rmse_add_sea_quad = np.sqrt(np.mean((np.array(Test['Sales'])-np.array(pred_add_sea_quad))**2))\n",
    "rmse_add_sea_quad = round(rmse_add_sea_quad,2)\n",
    "rmse_add_sea_quad"
   ]
  },
  {
   "cell_type": "markdown",
   "metadata": {},
   "source": [
    "# Multiplicative Seasonality"
   ]
  },
  {
   "cell_type": "code",
   "execution_count": 25,
   "metadata": {},
   "outputs": [
    {
     "data": {
      "text/plain": [
       "1828.92"
      ]
     },
     "execution_count": 25,
     "metadata": {},
     "output_type": "execute_result"
    }
   ],
   "source": [
    "Mul_sea = smf.ols('log_sales~Q1+Q2+Q3+Q4',\n",
    "                  data = Train).fit()\n",
    "pred_Mult_sea = pd.Series(Mul_sea.predict(Test))\n",
    "rmse_Mult_sea = np.sqrt(np.mean((np.array(Test['Sales'])-np.array(np.exp(pred_Mult_sea)))**2))\n",
    "rmse_Mult_sea = round(rmse_Mult_sea,2)\n",
    "rmse_Mult_sea"
   ]
  },
  {
   "cell_type": "markdown",
   "metadata": {},
   "source": [
    "# Multiplicative Additive Seasonality "
   ]
  },
  {
   "cell_type": "code",
   "execution_count": 26,
   "metadata": {},
   "outputs": [
    {
     "data": {
      "text/plain": [
       "410.25"
      ]
     },
     "execution_count": 26,
     "metadata": {},
     "output_type": "execute_result"
    }
   ],
   "source": [
    "Mul_Add_sea = smf.ols('log_sales~t+Q1+Q2+Q3+Q4',data = Train).fit()\n",
    "pred_Mult_add_sea = pd.Series(Mul_Add_sea.predict(Test))\n",
    "rmse_Mult_add_sea = np.sqrt(np.mean((np.array(Test['Sales'])-np.array(np.exp(pred_Mult_add_sea)))**2))\n",
    "rmse_Mult_add_sea = round(rmse_Mult_add_sea,2)\n",
    "rmse_Mult_add_sea"
   ]
  },
  {
   "cell_type": "markdown",
   "metadata": {},
   "source": [
    "# comparing the results/RMSE"
   ]
  },
  {
   "cell_type": "code",
   "execution_count": 27,
   "metadata": {},
   "outputs": [
    {
     "data": {
      "text/html": [
       "<div>\n",
       "<style scoped>\n",
       "    .dataframe tbody tr th:only-of-type {\n",
       "        vertical-align: middle;\n",
       "    }\n",
       "\n",
       "    .dataframe tbody tr th {\n",
       "        vertical-align: top;\n",
       "    }\n",
       "\n",
       "    .dataframe thead th {\n",
       "        text-align: right;\n",
       "    }\n",
       "</style>\n",
       "<table border=\"1\" class=\"dataframe\">\n",
       "  <thead>\n",
       "    <tr style=\"text-align: right;\">\n",
       "      <th></th>\n",
       "      <th>Model</th>\n",
       "      <th>RMSE Values</th>\n",
       "    </tr>\n",
       "  </thead>\n",
       "  <tbody>\n",
       "    <tr>\n",
       "      <th>6</th>\n",
       "      <td>rmse_Mult_add_sea</td>\n",
       "      <td>410.250000</td>\n",
       "    </tr>\n",
       "    <tr>\n",
       "      <th>1</th>\n",
       "      <td>rmse_Exp</td>\n",
       "      <td>552.282104</td>\n",
       "    </tr>\n",
       "    <tr>\n",
       "      <th>4</th>\n",
       "      <td>rmse_add_sea_quad</td>\n",
       "      <td>586.050000</td>\n",
       "    </tr>\n",
       "    <tr>\n",
       "      <th>2</th>\n",
       "      <td>rmse_Quad</td>\n",
       "      <td>646.270000</td>\n",
       "    </tr>\n",
       "    <tr>\n",
       "      <th>0</th>\n",
       "      <td>rmse_linear</td>\n",
       "      <td>714.014448</td>\n",
       "    </tr>\n",
       "    <tr>\n",
       "      <th>3</th>\n",
       "      <td>rmse_add_sea</td>\n",
       "      <td>1778.010000</td>\n",
       "    </tr>\n",
       "    <tr>\n",
       "      <th>5</th>\n",
       "      <td>rmse_Mult_sea</td>\n",
       "      <td>1828.920000</td>\n",
       "    </tr>\n",
       "  </tbody>\n",
       "</table>\n",
       "</div>"
      ],
      "text/plain": [
       "               Model  RMSE Values\n",
       "6  rmse_Mult_add_sea   410.250000\n",
       "1           rmse_Exp   552.282104\n",
       "4  rmse_add_sea_quad   586.050000\n",
       "2          rmse_Quad   646.270000\n",
       "0        rmse_linear   714.014448\n",
       "3       rmse_add_sea  1778.010000\n",
       "5      rmse_Mult_sea  1828.920000"
      ]
     },
     "execution_count": 27,
     "metadata": {},
     "output_type": "execute_result"
    }
   ],
   "source": [
    "#I DID IN THE PREVIOUS ASSIGNMENT:-\n",
    "# data = {\"MODEL\":pd.Series([\"rmse_linear\",\"rmse_Exp\",\"rmse_Quad\",\"rmse_add_sea\",\"rmse_add_sea_quad\",\"rmse_Mult_sea\"]),\n",
    "#         \"RMSE_Values\":pd.Series([rmse_linear,rmse_Exp,rmse_Quad,rmse_add_sea,rmse_add_sea_quad,rmse_Mult_sea])}\n",
    "# table_rmse=pd.DataFrame(data)\n",
    "# table_rmse\n",
    "\n",
    "\n",
    "# ******************************** OR THE OTHER WAY TO DO THIS IS ****************************************\n",
    "\n",
    "\n",
    "model_list = [\"rmse_linear\",\"rmse_Exp\",\"rmse_Quad\",\"rmse_add_sea\",\"rmse_add_sea_quad\",\"rmse_Mult_sea\",\n",
    "                                 \"rmse_Mult_add_sea\"]\n",
    "rmse_val_list = [rmse_linear,rmse_Exp,rmse_Quad,rmse_add_sea,rmse_add_sea_quad,rmse_Mult_sea,\n",
    "                                 rmse_Mult_add_sea]\n",
    "\n",
    "table_rmse = pd.DataFrame(columns=['Model','RMSE Values'])\n",
    "table_rmse['Model'] = model_list\n",
    "table_rmse['RMSE Values'] = rmse_val_list\n",
    "\n",
    "table_rmse.sort_values(by=['RMSE Values']) # sorting all the rmse values small to big"
   ]
  },
  {
   "cell_type": "markdown",
   "metadata": {},
   "source": [
    "### rmse_Mult_add_sea is giving less error. less the error, less the difference between actual values and  predicted values.\n",
    "\n",
    "### Hence we choose this model for prediction"
   ]
  },
  {
   "cell_type": "code",
   "execution_count": 35,
   "metadata": {
    "scrolled": true
   },
   "outputs": [
    {
     "data": {
      "text/html": [
       "<div>\n",
       "<style scoped>\n",
       "    .dataframe tbody tr th:only-of-type {\n",
       "        vertical-align: middle;\n",
       "    }\n",
       "\n",
       "    .dataframe tbody tr th {\n",
       "        vertical-align: top;\n",
       "    }\n",
       "\n",
       "    .dataframe thead th {\n",
       "        text-align: right;\n",
       "    }\n",
       "</style>\n",
       "<table border=\"1\" class=\"dataframe\">\n",
       "  <thead>\n",
       "    <tr style=\"text-align: right;\">\n",
       "      <th></th>\n",
       "      <th>Quarter</th>\n",
       "      <th>Sales</th>\n",
       "      <th>Quarter_Year</th>\n",
       "      <th>quarters</th>\n",
       "      <th>year</th>\n",
       "      <th>Q1</th>\n",
       "      <th>Q2</th>\n",
       "      <th>Q3</th>\n",
       "      <th>Q4</th>\n",
       "      <th>t</th>\n",
       "      <th>t_squared</th>\n",
       "      <th>log_sales</th>\n",
       "    </tr>\n",
       "  </thead>\n",
       "  <tbody>\n",
       "    <tr>\n",
       "      <th>0</th>\n",
       "      <td>Q1_86</td>\n",
       "      <td>1734.827000</td>\n",
       "      <td>Q1 1986</td>\n",
       "      <td>Q1</td>\n",
       "      <td>1986</td>\n",
       "      <td>1</td>\n",
       "      <td>0</td>\n",
       "      <td>0</td>\n",
       "      <td>0</td>\n",
       "      <td>0</td>\n",
       "      <td>0</td>\n",
       "      <td>7.458663</td>\n",
       "    </tr>\n",
       "    <tr>\n",
       "      <th>1</th>\n",
       "      <td>Q2_86</td>\n",
       "      <td>2244.960999</td>\n",
       "      <td>Q2 1986</td>\n",
       "      <td>Q2</td>\n",
       "      <td>1986</td>\n",
       "      <td>0</td>\n",
       "      <td>1</td>\n",
       "      <td>0</td>\n",
       "      <td>0</td>\n",
       "      <td>1</td>\n",
       "      <td>1</td>\n",
       "      <td>7.716443</td>\n",
       "    </tr>\n",
       "    <tr>\n",
       "      <th>2</th>\n",
       "      <td>Q3_86</td>\n",
       "      <td>2533.804993</td>\n",
       "      <td>Q3 1986</td>\n",
       "      <td>Q3</td>\n",
       "      <td>1986</td>\n",
       "      <td>0</td>\n",
       "      <td>0</td>\n",
       "      <td>1</td>\n",
       "      <td>0</td>\n",
       "      <td>2</td>\n",
       "      <td>4</td>\n",
       "      <td>7.837477</td>\n",
       "    </tr>\n",
       "    <tr>\n",
       "      <th>3</th>\n",
       "      <td>Q4_86</td>\n",
       "      <td>2154.962997</td>\n",
       "      <td>Q4 1986</td>\n",
       "      <td>Q4</td>\n",
       "      <td>1986</td>\n",
       "      <td>0</td>\n",
       "      <td>0</td>\n",
       "      <td>0</td>\n",
       "      <td>1</td>\n",
       "      <td>3</td>\n",
       "      <td>9</td>\n",
       "      <td>7.675529</td>\n",
       "    </tr>\n",
       "    <tr>\n",
       "      <th>4</th>\n",
       "      <td>Q1_87</td>\n",
       "      <td>1547.818996</td>\n",
       "      <td>Q1 1987</td>\n",
       "      <td>Q1</td>\n",
       "      <td>1987</td>\n",
       "      <td>1</td>\n",
       "      <td>0</td>\n",
       "      <td>0</td>\n",
       "      <td>0</td>\n",
       "      <td>4</td>\n",
       "      <td>16</td>\n",
       "      <td>7.344602</td>\n",
       "    </tr>\n",
       "  </tbody>\n",
       "</table>\n",
       "</div>"
      ],
      "text/plain": [
       "  Quarter        Sales Quarter_Year quarters  year  Q1  Q2  Q3  Q4  t  \\\n",
       "0   Q1_86  1734.827000      Q1 1986       Q1  1986   1   0   0   0  0   \n",
       "1   Q2_86  2244.960999      Q2 1986       Q2  1986   0   1   0   0  1   \n",
       "2   Q3_86  2533.804993      Q3 1986       Q3  1986   0   0   1   0  2   \n",
       "3   Q4_86  2154.962997      Q4 1986       Q4  1986   0   0   0   1  3   \n",
       "4   Q1_87  1547.818996      Q1 1987       Q1  1987   1   0   0   0  4   \n",
       "\n",
       "   t_squared  log_sales  \n",
       "0          0   7.458663  \n",
       "1          1   7.716443  \n",
       "2          4   7.837477  \n",
       "3          9   7.675529  \n",
       "4         16   7.344602  "
      ]
     },
     "execution_count": 35,
     "metadata": {},
     "output_type": "execute_result"
    }
   ],
   "source": [
    "df.head()"
   ]
  },
  {
   "cell_type": "code",
   "execution_count": 52,
   "metadata": {},
   "outputs": [
    {
     "data": {
      "text/plain": [
       "172.15"
      ]
     },
     "execution_count": 52,
     "metadata": {},
     "output_type": "execute_result"
    }
   ],
   "source": [
    "final_Mul_Add_sea = smf.ols('log_sales~t+Q1+Q2+Q3+Q4',data = df).fit()\n",
    "pred = pd.Series(final_Mul_Add_sea.predict(Test))\n",
    "rmse = np.sqrt(np.mean((np.array(Test['Sales'])-np.array(np.exp(pred)))**2))\n",
    "final_rmse_Mult_add_sea = round(rmse,2)\n",
    "final_rmse_Mult_add_sea"
   ]
  },
  {
   "cell_type": "code",
   "execution_count": 53,
   "metadata": {},
   "outputs": [
    {
     "data": {
      "text/html": [
       "<div>\n",
       "<style scoped>\n",
       "    .dataframe tbody tr th:only-of-type {\n",
       "        vertical-align: middle;\n",
       "    }\n",
       "\n",
       "    .dataframe tbody tr th {\n",
       "        vertical-align: top;\n",
       "    }\n",
       "\n",
       "    .dataframe thead th {\n",
       "        text-align: right;\n",
       "    }\n",
       "</style>\n",
       "<table border=\"1\" class=\"dataframe\">\n",
       "  <thead>\n",
       "    <tr style=\"text-align: right;\">\n",
       "      <th></th>\n",
       "      <th>Actual</th>\n",
       "      <th>Predicted</th>\n",
       "    </tr>\n",
       "  </thead>\n",
       "  <tbody>\n",
       "    <tr>\n",
       "      <th>0</th>\n",
       "      <td>1734.827000</td>\n",
       "      <td>1626.592727</td>\n",
       "    </tr>\n",
       "    <tr>\n",
       "      <th>1</th>\n",
       "      <td>2244.960999</td>\n",
       "      <td>2268.402339</td>\n",
       "    </tr>\n",
       "    <tr>\n",
       "      <th>2</th>\n",
       "      <td>2533.804993</td>\n",
       "      <td>2189.685821</td>\n",
       "    </tr>\n",
       "    <tr>\n",
       "      <th>3</th>\n",
       "      <td>2154.962997</td>\n",
       "      <td>1867.242917</td>\n",
       "    </tr>\n",
       "    <tr>\n",
       "      <th>4</th>\n",
       "      <td>1547.818996</td>\n",
       "      <td>1658.311143</td>\n",
       "    </tr>\n",
       "    <tr>\n",
       "      <th>5</th>\n",
       "      <td>2104.411995</td>\n",
       "      <td>2314.185178</td>\n",
       "    </tr>\n",
       "    <tr>\n",
       "      <th>6</th>\n",
       "      <td>2014.362999</td>\n",
       "      <td>2249.533083</td>\n",
       "    </tr>\n",
       "    <tr>\n",
       "      <th>7</th>\n",
       "      <td>1991.746998</td>\n",
       "      <td>1941.154603</td>\n",
       "    </tr>\n",
       "    <tr>\n",
       "      <th>8</th>\n",
       "      <td>1869.049999</td>\n",
       "      <td>1746.287252</td>\n",
       "    </tr>\n",
       "    <tr>\n",
       "      <th>9</th>\n",
       "      <td>2313.631996</td>\n",
       "      <td>2416.225709</td>\n",
       "    </tr>\n",
       "    <tr>\n",
       "      <th>10</th>\n",
       "      <td>2128.320000</td>\n",
       "      <td>2365.638037</td>\n",
       "    </tr>\n",
       "    <tr>\n",
       "      <th>11</th>\n",
       "      <td>2026.828999</td>\n",
       "      <td>2071.323979</td>\n",
       "    </tr>\n",
       "    <tr>\n",
       "      <th>12</th>\n",
       "      <td>1910.603996</td>\n",
       "      <td>1890.521051</td>\n",
       "    </tr>\n",
       "    <tr>\n",
       "      <th>13</th>\n",
       "      <td>2331.164993</td>\n",
       "      <td>2574.523931</td>\n",
       "    </tr>\n",
       "    <tr>\n",
       "      <th>14</th>\n",
       "      <td>2206.549995</td>\n",
       "      <td>2538.000682</td>\n",
       "    </tr>\n",
       "    <tr>\n",
       "      <th>15</th>\n",
       "      <td>2173.967995</td>\n",
       "      <td>2257.751047</td>\n",
       "    </tr>\n",
       "    <tr>\n",
       "      <th>16</th>\n",
       "      <td>2148.278000</td>\n",
       "      <td>2091.012542</td>\n",
       "    </tr>\n",
       "    <tr>\n",
       "      <th>17</th>\n",
       "      <td>2739.307999</td>\n",
       "      <td>2789.079845</td>\n",
       "    </tr>\n",
       "    <tr>\n",
       "      <th>18</th>\n",
       "      <td>2792.753998</td>\n",
       "      <td>2766.621019</td>\n",
       "    </tr>\n",
       "    <tr>\n",
       "      <th>19</th>\n",
       "      <td>2556.009995</td>\n",
       "      <td>2500.435807</td>\n",
       "    </tr>\n",
       "    <tr>\n",
       "      <th>20</th>\n",
       "      <td>2480.973999</td>\n",
       "      <td>2347.761724</td>\n",
       "    </tr>\n",
       "    <tr>\n",
       "      <th>21</th>\n",
       "      <td>3039.522995</td>\n",
       "      <td>3059.893450</td>\n",
       "    </tr>\n",
       "    <tr>\n",
       "      <th>22</th>\n",
       "      <td>3172.115997</td>\n",
       "      <td>3051.499047</td>\n",
       "    </tr>\n",
       "    <tr>\n",
       "      <th>23</th>\n",
       "      <td>2879.000999</td>\n",
       "      <td>2799.378257</td>\n",
       "    </tr>\n",
       "    <tr>\n",
       "      <th>24</th>\n",
       "      <td>2772.000000</td>\n",
       "      <td>2660.768598</td>\n",
       "    </tr>\n",
       "    <tr>\n",
       "      <th>25</th>\n",
       "      <td>3550.000000</td>\n",
       "      <td>3386.964746</td>\n",
       "    </tr>\n",
       "    <tr>\n",
       "      <th>26</th>\n",
       "      <td>3508.000000</td>\n",
       "      <td>3392.634766</td>\n",
       "    </tr>\n",
       "    <tr>\n",
       "      <th>27</th>\n",
       "      <td>3243.859993</td>\n",
       "      <td>3154.578400</td>\n",
       "    </tr>\n",
       "    <tr>\n",
       "      <th>28</th>\n",
       "      <td>3056.000000</td>\n",
       "      <td>3030.033163</td>\n",
       "    </tr>\n",
       "    <tr>\n",
       "      <th>29</th>\n",
       "      <td>3899.000000</td>\n",
       "      <td>3770.293734</td>\n",
       "    </tr>\n",
       "    <tr>\n",
       "      <th>30</th>\n",
       "      <td>3629.000000</td>\n",
       "      <td>3790.028177</td>\n",
       "    </tr>\n",
       "    <tr>\n",
       "      <th>31</th>\n",
       "      <td>3373.000000</td>\n",
       "      <td>3566.036233</td>\n",
       "    </tr>\n",
       "    <tr>\n",
       "      <th>32</th>\n",
       "      <td>3352.000000</td>\n",
       "      <td>3455.555419</td>\n",
       "    </tr>\n",
       "    <tr>\n",
       "      <th>33</th>\n",
       "      <td>4342.000000</td>\n",
       "      <td>4209.880414</td>\n",
       "    </tr>\n",
       "    <tr>\n",
       "      <th>34</th>\n",
       "      <td>4461.000000</td>\n",
       "      <td>4243.679279</td>\n",
       "    </tr>\n",
       "    <tr>\n",
       "      <th>35</th>\n",
       "      <td>4017.000000</td>\n",
       "      <td>4033.751758</td>\n",
       "    </tr>\n",
       "    <tr>\n",
       "      <th>36</th>\n",
       "      <td>3854.000000</td>\n",
       "      <td>3937.335367</td>\n",
       "    </tr>\n",
       "    <tr>\n",
       "      <th>37</th>\n",
       "      <td>4936.000000</td>\n",
       "      <td>4705.724784</td>\n",
       "    </tr>\n",
       "    <tr>\n",
       "      <th>38</th>\n",
       "      <td>4895.000000</td>\n",
       "      <td>4753.588072</td>\n",
       "    </tr>\n",
       "    <tr>\n",
       "      <th>39</th>\n",
       "      <td>4333.000000</td>\n",
       "      <td>4557.724974</td>\n",
       "    </tr>\n",
       "    <tr>\n",
       "      <th>40</th>\n",
       "      <td>4194.000000</td>\n",
       "      <td>4475.373006</td>\n",
       "    </tr>\n",
       "    <tr>\n",
       "      <th>41</th>\n",
       "      <td>5253.000000</td>\n",
       "      <td>5257.826846</td>\n",
       "    </tr>\n",
       "  </tbody>\n",
       "</table>\n",
       "</div>"
      ],
      "text/plain": [
       "         Actual    Predicted\n",
       "0   1734.827000  1626.592727\n",
       "1   2244.960999  2268.402339\n",
       "2   2533.804993  2189.685821\n",
       "3   2154.962997  1867.242917\n",
       "4   1547.818996  1658.311143\n",
       "5   2104.411995  2314.185178\n",
       "6   2014.362999  2249.533083\n",
       "7   1991.746998  1941.154603\n",
       "8   1869.049999  1746.287252\n",
       "9   2313.631996  2416.225709\n",
       "10  2128.320000  2365.638037\n",
       "11  2026.828999  2071.323979\n",
       "12  1910.603996  1890.521051\n",
       "13  2331.164993  2574.523931\n",
       "14  2206.549995  2538.000682\n",
       "15  2173.967995  2257.751047\n",
       "16  2148.278000  2091.012542\n",
       "17  2739.307999  2789.079845\n",
       "18  2792.753998  2766.621019\n",
       "19  2556.009995  2500.435807\n",
       "20  2480.973999  2347.761724\n",
       "21  3039.522995  3059.893450\n",
       "22  3172.115997  3051.499047\n",
       "23  2879.000999  2799.378257\n",
       "24  2772.000000  2660.768598\n",
       "25  3550.000000  3386.964746\n",
       "26  3508.000000  3392.634766\n",
       "27  3243.859993  3154.578400\n",
       "28  3056.000000  3030.033163\n",
       "29  3899.000000  3770.293734\n",
       "30  3629.000000  3790.028177\n",
       "31  3373.000000  3566.036233\n",
       "32  3352.000000  3455.555419\n",
       "33  4342.000000  4209.880414\n",
       "34  4461.000000  4243.679279\n",
       "35  4017.000000  4033.751758\n",
       "36  3854.000000  3937.335367\n",
       "37  4936.000000  4705.724784\n",
       "38  4895.000000  4753.588072\n",
       "39  4333.000000  4557.724974\n",
       "40  4194.000000  4475.373006\n",
       "41  5253.000000  5257.826846"
      ]
     },
     "execution_count": 53,
     "metadata": {},
     "output_type": "execute_result"
    }
   ],
   "source": [
    "pred_df = pd.DataFrame({'Actual' : df.Sales, 'Predicted' : pred_final})\n",
    "pred_df"
   ]
  },
  {
   "cell_type": "code",
   "execution_count": 62,
   "metadata": {},
   "outputs": [
    {
     "data": {
      "image/png": "[encoded data removed]",
      "text/plain": [
       "<Figure size 720x360 with 1 Axes>"
      ]
     },
     "metadata": {},
     "output_type": "display_data"
    }
   ],
   "source": [
    "# Actual Vs Predicted graph\n",
    "\n",
    "sns.set_style('whitegrid')\n",
    "\n",
    "plt.rcParams['figure.figsize'] = (10, 5) \n",
    "_, ax = plt.subplots()\n",
    "ax.hist(df.Sales, color = 'b', alpha = 0.5, label = 'Actual', bins=7)\n",
    "ax.hist(pred_final, color = 'g', alpha = 0.5, label = 'predicted', bins=7)\n",
    "ax.yaxis.set_ticks(np.arange(0,11))\n",
    "ax.legend(loc = 'best')\n",
    "plt.show()"
   ]
  },
  {
   "cell_type": "markdown",
   "metadata": {},
   "source": [
    "# Conclusion"
   ]
  },
  {
   "cell_type": "markdown",
   "metadata": {},
   "source": [
    "we created four dummy variables------ Q1,Q2,Q3,Q4 \n",
    "\n",
    "rmse_Mult_add_sea is giving less error. Hence we choose it for final model prediction."
   ]
  },
  {
   "cell_type": "code",
   "execution_count": null,
   "metadata": {},
   "outputs": [],
   "source": []
  }
 ],
 "metadata": {
  "kernelspec": {
   "display_name": "Python 3",
   "language": "python",
   "name": "python3"
  },
  "language_info": {
   "codemirror_mode": {
    "name": "ipython",
    "version": 3
   },
   "file_extension": ".py",
   "mimetype": "text/x-python",
   "name": "python",
   "nbconvert_exporter": "python",
   "pygments_lexer": "ipython3",
   "version": "3.8.5"
  }
 },
 "nbformat": 4,
 "nbformat_minor": 4
}
